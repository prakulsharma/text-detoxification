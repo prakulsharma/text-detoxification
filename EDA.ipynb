{
 "cells": [
  {
   "cell_type": "code",
   "execution_count": 41,
   "id": "f249cbae-320c-4f63-a27f-5113fabe56b8",
   "metadata": {},
   "outputs": [],
   "source": [
    "from datasets import load_dataset\n",
    "import pandas as pd\n",
    "\n",
    "\n",
    "dataset_e_train = load_dataset(\"s-nlp/paradetox\")\n",
    "dataset_r = load_dataset(\"s-nlp/ru_paradetox\")\n",
    "\n",
    "df_e = pd.DataFrame(dict(dataset_e)['train'])\n",
    "df_r = pd.concat([pd.DataFrame(dict(dataset_r)['train']), pd.DataFrame(dict(dataset_r)['validation'])])"
   ]
  },
  {
   "cell_type": "code",
   "execution_count": 7,
   "id": "355a1953-6344-4e19-8bb4-46034db656af",
   "metadata": {},
   "outputs": [
    {
     "data": {
      "text/plain": [
       "{'train': (19744, 2)}"
      ]
     },
     "execution_count": 7,
     "metadata": {},
     "output_type": "execute_result"
    }
   ],
   "source": [
    "dataset_e.shape"
   ]
  },
  {
   "cell_type": "code",
   "execution_count": 8,
   "id": "268be3cb-0ba6-42fa-be85-3c0cfa63de8a",
   "metadata": {},
   "outputs": [
    {
     "data": {
      "text/plain": [
       "{'train': (11090, 2), 'validation': (1116, 2)}"
      ]
     },
     "execution_count": 8,
     "metadata": {},
     "output_type": "execute_result"
    }
   ],
   "source": [
    "dataset_r.shape"
   ]
  },
  {
   "cell_type": "code",
   "execution_count": 34,
   "id": "34c70a61-b5f4-413c-9b70-c51d44d267ea",
   "metadata": {},
   "outputs": [],
   "source": [
    "import pandas as pd\n",
    "df = pd.DataFrame(dict(dataset_e)['train'])"
   ]
  },
  {
   "cell_type": "code",
   "execution_count": 35,
   "id": "bd4b40a5-d6f4-4124-adf4-3a4583d890ce",
   "metadata": {},
   "outputs": [
    {
     "data": {
      "text/html": [
       "<div>\n",
       "<style scoped>\n",
       "    .dataframe tbody tr th:only-of-type {\n",
       "        vertical-align: middle;\n",
       "    }\n",
       "\n",
       "    .dataframe tbody tr th {\n",
       "        vertical-align: top;\n",
       "    }\n",
       "\n",
       "    .dataframe thead th {\n",
       "        text-align: right;\n",
       "    }\n",
       "</style>\n",
       "<table border=\"1\" class=\"dataframe\">\n",
       "  <thead>\n",
       "    <tr style=\"text-align: right;\">\n",
       "      <th></th>\n",
       "      <th>en_toxic_comment</th>\n",
       "      <th>en_neutral_comment</th>\n",
       "    </tr>\n",
       "  </thead>\n",
       "  <tbody>\n",
       "    <tr>\n",
       "      <th>0</th>\n",
       "      <td>he had steel balls too !</td>\n",
       "      <td>he was brave too!</td>\n",
       "    </tr>\n",
       "    <tr>\n",
       "      <th>1</th>\n",
       "      <td>dude should have been taken to api , he would ...</td>\n",
       "      <td>It would have been good if he went to api. He ...</td>\n",
       "    </tr>\n",
       "    <tr>\n",
       "      <th>2</th>\n",
       "      <td>im not gonna sell the fucking picture , i just...</td>\n",
       "      <td>I'm not gonna sell the picture, i just want to...</td>\n",
       "    </tr>\n",
       "    <tr>\n",
       "      <th>3</th>\n",
       "      <td>the garbage that is being created by cnn and o...</td>\n",
       "      <td>the news that is being created by cnn and othe...</td>\n",
       "    </tr>\n",
       "    <tr>\n",
       "      <th>4</th>\n",
       "      <td>the reason they dont exist is because neither ...</td>\n",
       "      <td>The reason they don't exist is because neither...</td>\n",
       "    </tr>\n",
       "    <tr>\n",
       "      <th>...</th>\n",
       "      <td>...</td>\n",
       "      <td>...</td>\n",
       "    </tr>\n",
       "    <tr>\n",
       "      <th>19739</th>\n",
       "      <td>when they do shit like this .</td>\n",
       "      <td>when they do stuff like this</td>\n",
       "    </tr>\n",
       "    <tr>\n",
       "      <th>19740</th>\n",
       "      <td>but if saying \" fuck that group \" is much more...</td>\n",
       "      <td>but if saying\" that group is bad\" is much more...</td>\n",
       "    </tr>\n",
       "    <tr>\n",
       "      <th>19741</th>\n",
       "      <td>it hurts how judgemental assholes view them , ...</td>\n",
       "      <td>It hurts how judgemental that people view them...</td>\n",
       "    </tr>\n",
       "    <tr>\n",
       "      <th>19742</th>\n",
       "      <td>shit we probably literally blow that up in a w...</td>\n",
       "      <td>We probably litteralky blow that up in a week.</td>\n",
       "    </tr>\n",
       "    <tr>\n",
       "      <th>19743</th>\n",
       "      <td>if anyone deserved it , it was this shit bag .</td>\n",
       "      <td>if anyone deserved it , it was this bad bag .</td>\n",
       "    </tr>\n",
       "  </tbody>\n",
       "</table>\n",
       "<p>19744 rows × 2 columns</p>\n",
       "</div>"
      ],
      "text/plain": [
       "                                        en_toxic_comment  \\\n",
       "0                               he had steel balls too !   \n",
       "1      dude should have been taken to api , he would ...   \n",
       "2      im not gonna sell the fucking picture , i just...   \n",
       "3      the garbage that is being created by cnn and o...   \n",
       "4      the reason they dont exist is because neither ...   \n",
       "...                                                  ...   \n",
       "19739                      when they do shit like this .   \n",
       "19740  but if saying \" fuck that group \" is much more...   \n",
       "19741  it hurts how judgemental assholes view them , ...   \n",
       "19742  shit we probably literally blow that up in a w...   \n",
       "19743     if anyone deserved it , it was this shit bag .   \n",
       "\n",
       "                                      en_neutral_comment  \n",
       "0                                      he was brave too!  \n",
       "1      It would have been good if he went to api. He ...  \n",
       "2      I'm not gonna sell the picture, i just want to...  \n",
       "3      the news that is being created by cnn and othe...  \n",
       "4      The reason they don't exist is because neither...  \n",
       "...                                                  ...  \n",
       "19739                       when they do stuff like this  \n",
       "19740  but if saying\" that group is bad\" is much more...  \n",
       "19741  It hurts how judgemental that people view them...  \n",
       "19742     We probably litteralky blow that up in a week.  \n",
       "19743      if anyone deserved it , it was this bad bag .  \n",
       "\n",
       "[19744 rows x 2 columns]"
      ]
     },
     "execution_count": 35,
     "metadata": {},
     "output_type": "execute_result"
    }
   ],
   "source": [
    "df"
   ]
  },
  {
   "cell_type": "code",
   "execution_count": 40,
   "id": "c590d84a-6453-4059-8b2f-656aae1dcf51",
   "metadata": {},
   "outputs": [
    {
     "data": {
      "text/html": [
       "<div>\n",
       "<style scoped>\n",
       "    .dataframe tbody tr th:only-of-type {\n",
       "        vertical-align: middle;\n",
       "    }\n",
       "\n",
       "    .dataframe tbody tr th {\n",
       "        vertical-align: top;\n",
       "    }\n",
       "\n",
       "    .dataframe thead th {\n",
       "        text-align: right;\n",
       "    }\n",
       "</style>\n",
       "<table border=\"1\" class=\"dataframe\">\n",
       "  <thead>\n",
       "    <tr style=\"text-align: right;\">\n",
       "      <th></th>\n",
       "      <th>ru_toxic_comment</th>\n",
       "      <th>ru_neutral_comment</th>\n",
       "    </tr>\n",
       "  </thead>\n",
       "  <tbody>\n",
       "    <tr>\n",
       "      <th>0</th>\n",
       "      <td>и,чё,блядь где этот херой был до этого со свои...</td>\n",
       "      <td>Ну и где этот герой был,со своими доказательст...</td>\n",
       "    </tr>\n",
       "    <tr>\n",
       "      <th>1</th>\n",
       "      <td>и,чё,блядь где этот херой был до этого со свои...</td>\n",
       "      <td>Где этот герой был до этого со своими доказате...</td>\n",
       "    </tr>\n",
       "    <tr>\n",
       "      <th>2</th>\n",
       "      <td>и,чё,блядь где этот херой был до этого со свои...</td>\n",
       "      <td>и,где этот герой был до этого со своими доказа...</td>\n",
       "    </tr>\n",
       "    <tr>\n",
       "      <th>3</th>\n",
       "      <td>О, а есть деанон этого петуха?</td>\n",
       "      <td>О, а есть деанон</td>\n",
       "    </tr>\n",
       "    <tr>\n",
       "      <th>4</th>\n",
       "      <td>херну всякую пишут,из-за этого лайка.долбоебизм.</td>\n",
       "      <td>Чушь всякую пишут, из- за этого лайка.</td>\n",
       "    </tr>\n",
       "    <tr>\n",
       "      <th>...</th>\n",
       "      <td>...</td>\n",
       "      <td>...</td>\n",
       "    </tr>\n",
       "    <tr>\n",
       "      <th>1111</th>\n",
       "      <td>киргиз украл, она сбежала, так он ее зарезал с...</td>\n",
       "      <td>киргиз украл, она сбежала, так он ее зарезал</td>\n",
       "    </tr>\n",
       "    <tr>\n",
       "      <th>1112</th>\n",
       "      <td>это не от того что желающих работать нет. а от...</td>\n",
       "      <td>Это не от того что желающих работать нет а от ...</td>\n",
       "    </tr>\n",
       "    <tr>\n",
       "      <th>1113</th>\n",
       "      <td>долбаеб, решил ресонуться, купил бы кольцо, цв...</td>\n",
       "      <td>Если хочешь показать себя , купи кольцо, цветы...</td>\n",
       "    </tr>\n",
       "    <tr>\n",
       "      <th>1114</th>\n",
       "      <td>такому уроду пасти баранов страшно доверить а ...</td>\n",
       "      <td>такому плохому  человеку ничего нельзя доверит...</td>\n",
       "    </tr>\n",
       "    <tr>\n",
       "      <th>1115</th>\n",
       "      <td>самий пидараз здесь бартамео он уйдёть всё буд...</td>\n",
       "      <td>Самий нехороший, здесь бартамео он уйдет и всё...</td>\n",
       "    </tr>\n",
       "  </tbody>\n",
       "</table>\n",
       "<p>12206 rows × 2 columns</p>\n",
       "</div>"
      ],
      "text/plain": [
       "                                       ru_toxic_comment  \\\n",
       "0     и,чё,блядь где этот херой был до этого со свои...   \n",
       "1     и,чё,блядь где этот херой был до этого со свои...   \n",
       "2     и,чё,блядь где этот херой был до этого со свои...   \n",
       "3                        О, а есть деанон этого петуха?   \n",
       "4      херну всякую пишут,из-за этого лайка.долбоебизм.   \n",
       "...                                                 ...   \n",
       "1111  киргиз украл, она сбежала, так он ее зарезал с...   \n",
       "1112  это не от того что желающих работать нет. а от...   \n",
       "1113  долбаеб, решил ресонуться, купил бы кольцо, цв...   \n",
       "1114  такому уроду пасти баранов страшно доверить а ...   \n",
       "1115  самий пидараз здесь бартамео он уйдёть всё буд...   \n",
       "\n",
       "                                     ru_neutral_comment  \n",
       "0     Ну и где этот герой был,со своими доказательст...  \n",
       "1     Где этот герой был до этого со своими доказате...  \n",
       "2     и,где этот герой был до этого со своими доказа...  \n",
       "3                                      О, а есть деанон  \n",
       "4                Чушь всякую пишут, из- за этого лайка.  \n",
       "...                                                 ...  \n",
       "1111       киргиз украл, она сбежала, так он ее зарезал  \n",
       "1112  Это не от того что желающих работать нет а от ...  \n",
       "1113  Если хочешь показать себя , купи кольцо, цветы...  \n",
       "1114  такому плохому  человеку ничего нельзя доверит...  \n",
       "1115  Самий нехороший, здесь бартамео он уйдет и всё...  \n",
       "\n",
       "[12206 rows x 2 columns]"
      ]
     },
     "execution_count": 40,
     "metadata": {},
     "output_type": "execute_result"
    }
   ],
   "source": [
    "df_r = pd.concat([pd.DataFrame(dict(dataset_r)['train']), pd.DataFrame(dict(dataset_r)['validation'])])\n",
    "df_r"
   ]
  },
  {
   "cell_type": "code",
   "execution_count": 28,
   "id": "54f2f937-b669-4e02-9ed0-2b104a803034",
   "metadata": {},
   "outputs": [
    {
     "data": {
      "text/plain": [
       "'en_neutral_comment'"
      ]
     },
     "execution_count": 28,
     "metadata": {},
     "output_type": "execute_result"
    }
   ],
   "source": [
    "dict(dict(dataset_e).get('train')).get('en_toxic_comment')"
   ]
  },
  {
   "cell_type": "code",
   "execution_count": 10,
   "id": "5c186463-88c4-431a-880c-ccf7c40cafad",
   "metadata": {},
   "outputs": [
    {
     "data": {
      "application/vnd.jupyter.widget-view+json": {
       "model_id": "df86e91a776c4e219bd58666866ca959",
       "version_major": 2,
       "version_minor": 0
      },
      "text/plain": [
       "Downloading readme:   0%|          | 0.00/2.96k [00:00<?, ?B/s]"
      ]
     },
     "metadata": {},
     "output_type": "display_data"
    },
    {
     "data": {
      "application/vnd.jupyter.widget-view+json": {
       "model_id": "2f847d2238354657b03f3076bada2816",
       "version_major": 2,
       "version_minor": 0
      },
      "text/plain": [
       "Downloading data:   0%|          | 0.00/18.7k [00:00<?, ?B/s]"
      ]
     },
     "metadata": {},
     "output_type": "display_data"
    },
    {
     "data": {
      "application/vnd.jupyter.widget-view+json": {
       "model_id": "dcd1d0ed7dc742b596e44bf89bbab3af",
       "version_major": 2,
       "version_minor": 0
      },
      "text/plain": [
       "Downloading data:   0%|          | 0.00/29.4k [00:00<?, ?B/s]"
      ]
     },
     "metadata": {},
     "output_type": "display_data"
    },
    {
     "data": {
      "application/vnd.jupyter.widget-view+json": {
       "model_id": "9a6d55071f4543d3bbd4e283e9515e82",
       "version_major": 2,
       "version_minor": 0
      },
      "text/plain": [
       "Downloading data:   0%|          | 0.00/25.5k [00:00<?, ?B/s]"
      ]
     },
     "metadata": {},
     "output_type": "display_data"
    },
    {
     "data": {
      "application/vnd.jupyter.widget-view+json": {
       "model_id": "6600bacd7de541ccadea2d49b239e0a8",
       "version_major": 2,
       "version_minor": 0
      },
      "text/plain": [
       "Downloading data:   0%|          | 0.00/33.4k [00:00<?, ?B/s]"
      ]
     },
     "metadata": {},
     "output_type": "display_data"
    },
    {
     "data": {
      "application/vnd.jupyter.widget-view+json": {
       "model_id": "aa355fec5d7a479ead0814409b09a1c2",
       "version_major": 2,
       "version_minor": 0
      },
      "text/plain": [
       "Downloading data:   0%|          | 0.00/23.4k [00:00<?, ?B/s]"
      ]
     },
     "metadata": {},
     "output_type": "display_data"
    },
    {
     "data": {
      "application/vnd.jupyter.widget-view+json": {
       "model_id": "2daa6a3491c142268045f2ce07ad14fd",
       "version_major": 2,
       "version_minor": 0
      },
      "text/plain": [
       "Downloading data:   0%|          | 0.00/43.2k [00:00<?, ?B/s]"
      ]
     },
     "metadata": {},
     "output_type": "display_data"
    },
    {
     "data": {
      "application/vnd.jupyter.widget-view+json": {
       "model_id": "263070de0b8a4d47bb4e2b641e02693e",
       "version_major": 2,
       "version_minor": 0
      },
      "text/plain": [
       "Downloading data:   0%|          | 0.00/29.2k [00:00<?, ?B/s]"
      ]
     },
     "metadata": {},
     "output_type": "display_data"
    },
    {
     "data": {
      "application/vnd.jupyter.widget-view+json": {
       "model_id": "b8eca804fbad4c7696dd8389f9167bbf",
       "version_major": 2,
       "version_minor": 0
      },
      "text/plain": [
       "Downloading data:   0%|          | 0.00/28.1k [00:00<?, ?B/s]"
      ]
     },
     "metadata": {},
     "output_type": "display_data"
    },
    {
     "data": {
      "application/vnd.jupyter.widget-view+json": {
       "model_id": "d5fe66f64ad842b3acf8c0ffba871979",
       "version_major": 2,
       "version_minor": 0
      },
      "text/plain": [
       "Downloading data:   0%|          | 0.00/26.6k [00:00<?, ?B/s]"
      ]
     },
     "metadata": {},
     "output_type": "display_data"
    },
    {
     "data": {
      "application/vnd.jupyter.widget-view+json": {
       "model_id": "f824e36837484d94a2f28d6b65e5297b",
       "version_major": 2,
       "version_minor": 0
      },
      "text/plain": [
       "Generating en split:   0%|          | 0/400 [00:00<?, ? examples/s]"
      ]
     },
     "metadata": {},
     "output_type": "display_data"
    },
    {
     "data": {
      "application/vnd.jupyter.widget-view+json": {
       "model_id": "a8f0867d276340ef803bb443c8ef2495",
       "version_major": 2,
       "version_minor": 0
      },
      "text/plain": [
       "Generating ru split:   0%|          | 0/400 [00:00<?, ? examples/s]"
      ]
     },
     "metadata": {},
     "output_type": "display_data"
    },
    {
     "data": {
      "application/vnd.jupyter.widget-view+json": {
       "model_id": "86e0b16994df47c89b22411443a8352a",
       "version_major": 2,
       "version_minor": 0
      },
      "text/plain": [
       "Generating uk split:   0%|          | 0/400 [00:00<?, ? examples/s]"
      ]
     },
     "metadata": {},
     "output_type": "display_data"
    },
    {
     "data": {
      "application/vnd.jupyter.widget-view+json": {
       "model_id": "4d6cb65886394a0abb6fcc0ab94e039c",
       "version_major": 2,
       "version_minor": 0
      },
      "text/plain": [
       "Generating de split:   0%|          | 0/400 [00:00<?, ? examples/s]"
      ]
     },
     "metadata": {},
     "output_type": "display_data"
    },
    {
     "data": {
      "application/vnd.jupyter.widget-view+json": {
       "model_id": "661573b2c491405997541fe9f76f81f7",
       "version_major": 2,
       "version_minor": 0
      },
      "text/plain": [
       "Generating es split:   0%|          | 0/400 [00:00<?, ? examples/s]"
      ]
     },
     "metadata": {},
     "output_type": "display_data"
    },
    {
     "data": {
      "application/vnd.jupyter.widget-view+json": {
       "model_id": "008fb2d4b1c14238bb0dc0fb077d1bcc",
       "version_major": 2,
       "version_minor": 0
      },
      "text/plain": [
       "Generating am split:   0%|          | 0/400 [00:00<?, ? examples/s]"
      ]
     },
     "metadata": {},
     "output_type": "display_data"
    },
    {
     "data": {
      "application/vnd.jupyter.widget-view+json": {
       "model_id": "6a756ecfbbae4e49a112ea333279811c",
       "version_major": 2,
       "version_minor": 0
      },
      "text/plain": [
       "Generating zh split:   0%|          | 0/400 [00:00<?, ? examples/s]"
      ]
     },
     "metadata": {},
     "output_type": "display_data"
    },
    {
     "data": {
      "application/vnd.jupyter.widget-view+json": {
       "model_id": "386804257af94c35a3186c1b56b1f025",
       "version_major": 2,
       "version_minor": 0
      },
      "text/plain": [
       "Generating ar split:   0%|          | 0/400 [00:00<?, ? examples/s]"
      ]
     },
     "metadata": {},
     "output_type": "display_data"
    },
    {
     "data": {
      "application/vnd.jupyter.widget-view+json": {
       "model_id": "b176982877e742dba8c5a8ae6a8bdd4a",
       "version_major": 2,
       "version_minor": 0
      },
      "text/plain": [
       "Generating hi split:   0%|          | 0/400 [00:00<?, ? examples/s]"
      ]
     },
     "metadata": {},
     "output_type": "display_data"
    }
   ],
   "source": [
    "dataset_e_dev = load_dataset(\"textdetox/multilingual_paradetox\")"
   ]
  },
  {
   "cell_type": "code",
   "execution_count": 11,
   "id": "29f69115-bc1e-4489-b6ca-bb5169e54464",
   "metadata": {},
   "outputs": [
    {
     "data": {
      "text/plain": [
       "{'en': (400, 1),\n",
       " 'ru': (400, 1),\n",
       " 'uk': (400, 1),\n",
       " 'de': (400, 1),\n",
       " 'es': (400, 1),\n",
       " 'am': (400, 1),\n",
       " 'zh': (400, 1),\n",
       " 'ar': (400, 1),\n",
       " 'hi': (400, 1)}"
      ]
     },
     "execution_count": 11,
     "metadata": {},
     "output_type": "execute_result"
    }
   ],
   "source": [
    "dataset_e_dev.shape"
   ]
  },
  {
   "cell_type": "code",
   "execution_count": 13,
   "id": "5fb7349d-bc5f-403f-9e23-4eac8063119b",
   "metadata": {},
   "outputs": [
    {
     "data": {
      "text/plain": [
       "DatasetDict({\n",
       "    en: Dataset({\n",
       "        features: ['toxic_sentence'],\n",
       "        num_rows: 400\n",
       "    })\n",
       "    ru: Dataset({\n",
       "        features: ['toxic_sentence'],\n",
       "        num_rows: 400\n",
       "    })\n",
       "    uk: Dataset({\n",
       "        features: ['toxic_sentence'],\n",
       "        num_rows: 400\n",
       "    })\n",
       "    de: Dataset({\n",
       "        features: ['toxic_sentence'],\n",
       "        num_rows: 400\n",
       "    })\n",
       "    es: Dataset({\n",
       "        features: ['toxic_sentence'],\n",
       "        num_rows: 400\n",
       "    })\n",
       "    am: Dataset({\n",
       "        features: ['toxic_sentence'],\n",
       "        num_rows: 400\n",
       "    })\n",
       "    zh: Dataset({\n",
       "        features: ['toxic_sentence'],\n",
       "        num_rows: 400\n",
       "    })\n",
       "    ar: Dataset({\n",
       "        features: ['toxic_sentence'],\n",
       "        num_rows: 400\n",
       "    })\n",
       "    hi: Dataset({\n",
       "        features: ['toxic_sentence'],\n",
       "        num_rows: 400\n",
       "    })\n",
       "})"
      ]
     },
     "execution_count": 13,
     "metadata": {},
     "output_type": "execute_result"
    }
   ],
   "source": [
    "dataset_e_dev"
   ]
  },
  {
   "cell_type": "code",
   "execution_count": null,
   "id": "b334996c-ae93-4ea6-87a6-5d85704d5120",
   "metadata": {},
   "outputs": [],
   "source": []
  }
 ],
 "metadata": {
  "kernelspec": {
   "display_name": "Python 3 (ipykernel)",
   "language": "python",
   "name": "python3"
  },
  "language_info": {
   "codemirror_mode": {
    "name": "ipython",
    "version": 3
   },
   "file_extension": ".py",
   "mimetype": "text/x-python",
   "name": "python",
   "nbconvert_exporter": "python",
   "pygments_lexer": "ipython3",
   "version": "3.11.8"
  }
 },
 "nbformat": 4,
 "nbformat_minor": 5
}
